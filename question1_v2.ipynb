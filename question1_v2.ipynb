{
  "nbformat": 4,
  "nbformat_minor": 0,
  "metadata": {
    "colab": {
      "name": "question1.ipynb",
      "provenance": [],
      "collapsed_sections": []
    },
    "kernelspec": {
      "name": "python3",
      "display_name": "Python 3"
    },
    "language_info": {
      "name": "python"
    }
  },
  "cells": [
    {
      "cell_type": "code",
      "execution_count": null,
      "metadata": {
        "id": "9R07y5auZNvl",
        "colab": {
          "base_uri": "https://localhost:8080/"
        },
        "outputId": "258c7658-8882-4638-9118-146381e86563"
      },
      "outputs": [
        {
          "output_type": "execute_result",
          "data": {
            "text/plain": [
              "<function TextIOWrapper.close>"
            ]
          },
          "metadata": {},
          "execution_count": 5
        }
      ],
      "source": [
        "import regex\n",
        "#Read the files\n",
        "LAS18_1=open('Read1_MPRA_LAS18.txt','r')\n",
        "las18_1=LAS18_1.read()\n",
        "LAS18_1.close\n",
        "LAS18_2=open('Read2_MPRA_LAS18.txt','r')\n",
        "las18_2=LAS18_2.read()\n",
        "LAS18_2.close\n",
        "LAS21_1=open('Read1_MPRA_LAS21.txt','r')\n",
        "las21_1=LAS21_1.read()\n",
        "LAS21_1.close\n",
        "LAS21_2=open('Read2_MPRA_LAS21.txt','r')\n",
        "las21_2=LAS21_2.read()\n",
        "LAS21_2.close\n",
        "LAS22_1=open('Read1_MPRA_LAS22.txt','r')\n",
        "las22_1=LAS22_1.read()\n",
        "LAS22_1.close\n",
        "LAS22_2=open('Read2_MPRA_LAS22.txt','r')\n",
        "las22_2=LAS22_2.read()\n",
        "LAS22_2.close\n",
        "LAS24_1=open('Read1_MPRA_LAS24.txt','r')\n",
        "las24_1=LAS24_1.read()\n",
        "LAS24_1.close\n",
        "LAS24_2=open('Read2_MPRA_LAS24.txt','r')\n",
        "las24_2=LAS24_2.read()\n",
        "LAS24_2.close"
      ]
    },
    {
      "cell_type": "code",
      "source": [
        "#Define functions\n",
        "def mismatch_0(sequence):\n",
        "  match=regex.findall(\"CCTTGCTCACCATGGTGGCACCGGT\",sequence)\n",
        "  return match\n",
        "def mismatch_1(sequence):\n",
        "  match=regex.findall(\"(CCTTGCTCACCATGGTGGCACCGGT){s<=1}\",sequence)\n",
        "  return match\n",
        "def mismatch_2(sequence):\n",
        "  match=regex.findall(\"(CCTTGCTCACCATGGTGGCACCGGT){s<=2}\",sequence)\n",
        "  return match\n",
        "def mismatch_3(sequence):\n",
        "  match=regex.findall(\"(CCTTGCTCACCATGGTGGCACCGGT){s<=3}\",sequence)\n",
        "  return match\n",
        "def mismatch_4(sequence):\n",
        "  match=regex.findall(\"(CCTTGCTCACCATGGTGGCACCGGT){s<=4}\",sequence)\n",
        "  return match\n",
        "def mismatch_5(sequence):\n",
        "  match=regex.findall(\"(CCTTGCTCACCATGGTGGCACCGGT){s<=5}\",sequence)\n",
        "  return match\n",
        "def run(file):\n",
        "  list=file.split(\"+\")\n",
        "  print(\"Total:\",len(list))\n",
        "  matches_0=[]\n",
        "  for i in range(0,len(list)):\n",
        "    sequence=list[i]\n",
        "    match=mismatch_0(sequence)\n",
        "    if match:\n",
        "      matches_0.append(match)\n",
        "  print(\"0 mismatch:\",len(matches_0))\n",
        "  matches_1=[]\n",
        "  for i in range(0,len(list)):\n",
        "    sequence=list[i]\n",
        "    match=mismatch_1(sequence)\n",
        "    if match:  \n",
        "      matches_1.append(match)\n",
        "  print(\"1 mismatch:\",len(matches_1)-len(matches_0))\n",
        "  matches_2=[]\n",
        "  for i in range(0,len(list)):\n",
        "    sequence=list[i]\n",
        "    match=mismatch_2(sequence)\n",
        "    if match:\n",
        "      matches_2.append(match)\n",
        "  print(\"2 mismatches:\",len(matches_2)-len(matches_1))\n",
        "  matches_3=[]\n",
        "  for i in range(0,len(list)):\n",
        "    sequence=list[i]\n",
        "    match=mismatch_3(sequence)\n",
        "    if match:\n",
        "      matches_3.append(match)\n",
        "  print(\"3 mismatches:\",len(matches_3)-len(matches_2))\n",
        "  matches_4=[]\n",
        "  for i in range(0,len(list)):\n",
        "    sequence=list[i]\n",
        "    match=mismatch_4(sequence)\n",
        "    if match:\n",
        "      matches_4.append(match)\n",
        "  print(\"4 mismatches:\",len(matches_4)-len(matches_3))\n",
        "  matches_5=[]\n",
        "  output=[]\n",
        "  for i in range(0,len(list)):\n",
        "    sequence=list[i]\n",
        "    match=mismatch_5(sequence)\n",
        "    if match:\n",
        "      matches_5.append(match)\n",
        "      output.append(sequence)\n",
        "  print(\"5 mismatches:\",len(matches_5)-len(matches_4))\n",
        "  return output"
      ],
      "metadata": {
        "id": "l5Ws1RVjkEkQ"
      },
      "execution_count": 14,
      "outputs": []
    },
    {
      "cell_type": "code",
      "source": [
        "o18_1=run(las18_1)\n",
        "f=open(\"output18_1.txt\",\"w\")\n",
        "f.writelines(o18_1)\n",
        "f.close"
      ],
      "metadata": {
        "colab": {
          "base_uri": "https://localhost:8080/"
        },
        "id": "LA__p5MW6OIy",
        "outputId": "872846fd-caf1-4aa0-e975-d146b2d06956"
      },
      "execution_count": 19,
      "outputs": [
        {
          "output_type": "stream",
          "name": "stdout",
          "text": [
            "Total: 42073\n",
            "0 mismatch: 11\n",
            "1 mismatch: 0\n",
            "2 mismatches: 0\n",
            "3 mismatches: 3\n",
            "4 mismatches: 26\n",
            "5 mismatches: 1\n"
          ]
        },
        {
          "output_type": "execute_result",
          "data": {
            "text/plain": [
              "<function TextIOWrapper.close>"
            ]
          },
          "metadata": {},
          "execution_count": 19
        }
      ]
    },
    {
      "cell_type": "code",
      "source": [
        "o18_2=run(las18_2)\n",
        "f=open(\"output18_2.txt\",\"w\")\n",
        "f.writelines(o18_2)\n",
        "f.close"
      ],
      "metadata": {
        "colab": {
          "base_uri": "https://localhost:8080/"
        },
        "id": "nLS1rhu46yxG",
        "outputId": "ddb358ad-5ad9-4255-99fd-3fa033db74ff"
      },
      "execution_count": 20,
      "outputs": [
        {
          "output_type": "stream",
          "name": "stdout",
          "text": [
            "Total: 42073\n",
            "0 mismatch: 22875\n",
            "1 mismatch: 4301\n",
            "2 mismatches: 2002\n",
            "3 mismatches: 656\n",
            "4 mismatches: 590\n",
            "5 mismatches: 1176\n"
          ]
        },
        {
          "output_type": "execute_result",
          "data": {
            "text/plain": [
              "<function TextIOWrapper.close>"
            ]
          },
          "metadata": {},
          "execution_count": 20
        }
      ]
    },
    {
      "cell_type": "code",
      "source": [
        "o21_1=run(las21_1)\n",
        "f=open(\"output21_1.txt\",\"w\")\n",
        "f.writelines(o21_1)\n",
        "f.close"
      ],
      "metadata": {
        "colab": {
          "base_uri": "https://localhost:8080/"
        },
        "id": "TYYk4zY17VQ0",
        "outputId": "624c6d90-49c2-459e-e46b-4568b7f22542"
      },
      "execution_count": 21,
      "outputs": [
        {
          "output_type": "stream",
          "name": "stdout",
          "text": [
            "Total: 276545\n",
            "0 mismatch: 55\n",
            "1 mismatch: 8\n",
            "2 mismatches: 1\n",
            "3 mismatches: 1\n",
            "4 mismatches: 5\n",
            "5 mismatches: 2\n"
          ]
        },
        {
          "output_type": "execute_result",
          "data": {
            "text/plain": [
              "<function TextIOWrapper.close>"
            ]
          },
          "metadata": {},
          "execution_count": 21
        }
      ]
    },
    {
      "cell_type": "code",
      "source": [
        "o21_2=run(las21_2)\n",
        "f=open(\"output21_2.txt\",\"w\")\n",
        "f.writelines(o21_2)\n",
        "f.close"
      ],
      "metadata": {
        "colab": {
          "base_uri": "https://localhost:8080/"
        },
        "id": "vF7tclD47zDX",
        "outputId": "64c8c51c-ddee-4446-d7d7-6136278bf763"
      },
      "execution_count": 22,
      "outputs": [
        {
          "output_type": "stream",
          "name": "stdout",
          "text": [
            "Total: 276545\n",
            "0 mismatch: 254338\n",
            "1 mismatch: 7151\n",
            "2 mismatches: 2098\n",
            "3 mismatches: 925\n",
            "4 mismatches: 581\n",
            "5 mismatches: 1023\n"
          ]
        },
        {
          "output_type": "execute_result",
          "data": {
            "text/plain": [
              "<function TextIOWrapper.close>"
            ]
          },
          "metadata": {},
          "execution_count": 22
        }
      ]
    },
    {
      "cell_type": "code",
      "source": [
        "o22_1=run(las22_1)\n",
        "f=open(\"output22_1.txt\",\"w\")\n",
        "f.writelines(o22_1)\n",
        "f.close"
      ],
      "metadata": {
        "colab": {
          "base_uri": "https://localhost:8080/"
        },
        "id": "-xPYWUyS8oV0",
        "outputId": "7e945d8f-85ba-47d3-8f8b-266a8a55850c"
      },
      "execution_count": 23,
      "outputs": [
        {
          "output_type": "stream",
          "name": "stdout",
          "text": [
            "Total: 301488\n",
            "0 mismatch: 34\n",
            "1 mismatch: 5\n",
            "2 mismatches: 3\n",
            "3 mismatches: 8\n",
            "4 mismatches: 34\n",
            "5 mismatches: 15\n"
          ]
        },
        {
          "output_type": "execute_result",
          "data": {
            "text/plain": [
              "<function TextIOWrapper.close>"
            ]
          },
          "metadata": {},
          "execution_count": 23
        }
      ]
    },
    {
      "cell_type": "code",
      "source": [
        "o22_2=run(las22_2)\n",
        "f=open(\"output22_2.txt\",\"w\")\n",
        "f.writelines(o22_2)\n",
        "f.close"
      ],
      "metadata": {
        "colab": {
          "base_uri": "https://localhost:8080/"
        },
        "id": "7eROMgw69G7J",
        "outputId": "6cf80360-8f5d-4889-f42d-ceefe36ad5a3"
      },
      "execution_count": 24,
      "outputs": [
        {
          "output_type": "stream",
          "name": "stdout",
          "text": [
            "Total: 301488\n",
            "0 mismatch: 88813\n",
            "1 mismatch: 7037\n",
            "2 mismatches: 3353\n",
            "3 mismatches: 1409\n",
            "4 mismatches: 850\n",
            "5 mismatches: 2071\n"
          ]
        },
        {
          "output_type": "execute_result",
          "data": {
            "text/plain": [
              "<function TextIOWrapper.close>"
            ]
          },
          "metadata": {},
          "execution_count": 24
        }
      ]
    },
    {
      "cell_type": "code",
      "source": [
        "o24_1=run(las24_1)\n",
        "f=open(\"output24_1.txt\",\"w\")\n",
        "f.writelines(o24_1)\n",
        "f.close"
      ],
      "metadata": {
        "colab": {
          "base_uri": "https://localhost:8080/"
        },
        "id": "lI0T7PFl96KC",
        "outputId": "7472c3d5-5b6c-4980-b101-1109629ecd90"
      },
      "execution_count": 25,
      "outputs": [
        {
          "output_type": "stream",
          "name": "stdout",
          "text": [
            "Total: 50992\n",
            "0 mismatch: 10\n",
            "1 mismatch: 10\n",
            "2 mismatches: 1\n",
            "3 mismatches: 3\n",
            "4 mismatches: 6\n",
            "5 mismatches: 11\n"
          ]
        },
        {
          "output_type": "execute_result",
          "data": {
            "text/plain": [
              "<function TextIOWrapper.close>"
            ]
          },
          "metadata": {},
          "execution_count": 25
        }
      ]
    },
    {
      "cell_type": "code",
      "source": [
        "o24_2=run(las24_2)\n",
        "f=open(\"output24_2.txt\",\"w\")\n",
        "f.writelines(o24_2)\n",
        "f.close"
      ],
      "metadata": {
        "colab": {
          "base_uri": "https://localhost:8080/"
        },
        "id": "kXFKHC0Y-HBR",
        "outputId": "178247c7-97b7-4f2c-cff8-62ba7a669fc5"
      },
      "execution_count": 26,
      "outputs": [
        {
          "output_type": "stream",
          "name": "stdout",
          "text": [
            "Total: 50992\n",
            "0 mismatch: 7651\n",
            "1 mismatch: 5234\n",
            "2 mismatches: 3065\n",
            "3 mismatches: 1152\n",
            "4 mismatches: 1257\n",
            "5 mismatches: 1717\n"
          ]
        },
        {
          "output_type": "execute_result",
          "data": {
            "text/plain": [
              "<function TextIOWrapper.close>"
            ]
          },
          "metadata": {},
          "execution_count": 26
        }
      ]
    }
  ]
}